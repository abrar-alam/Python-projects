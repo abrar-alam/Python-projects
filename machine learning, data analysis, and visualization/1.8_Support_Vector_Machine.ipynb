{
 "cells": [
  {
   "cell_type": "markdown",
   "source": [
    "\r\n",
    "\r\n",
    "<h1 align=center><font size=\"5\"> SVM (Support Vector Machines)</font></h1>"
   ],
   "metadata": {}
  },
  {
   "cell_type": "markdown",
   "source": [
    "In this notebook, you will use SVM (Support Vector Machines) to build and train a model using human cell records, and classify cells to whether the samples are benign or malignant.\n",
    "\n",
    "SVM works by mapping data to a high-dimensional feature space so that data points can be categorized, even when the data are not otherwise linearly separable. A separator between the categories is found, then the data is transformed in such a way that the separator could be drawn as a hyperplane. Following this, characteristics of new data can be used to predict the group to which a new record should belong."
   ],
   "metadata": {}
  },
  {
   "cell_type": "markdown",
   "source": [
    "<h1>Table of contents</h1>\n",
    "\n",
    "<div class=\"alert alert-block alert-info\" style=\"margin-top: 20px\">\n",
    "    <ol>\n",
    "        <li><a href=\"#load_dataset\">Load the Cancer data</a></li>\n",
    "        <li><a href=\"#modeling\">Modeling</a></li>\n",
    "        <li><a href=\"#evaluation\">Evaluation</a></li>\n",
    "        <li><a href=\"#practice\">Practice</a></li>\n",
    "    </ol>\n",
    "</div>\n",
    "<br>\n",
    "<hr>"
   ],
   "metadata": {}
  },
  {
   "cell_type": "code",
   "execution_count": 31,
   "source": [
    "import pandas as pd\r\n",
    "import pylab as pl\r\n",
    "import numpy as np\r\n",
    "import scipy.optimize as opt\r\n",
    "from sklearn import preprocessing\r\n",
    "from sklearn.model_selection import train_test_split\r\n",
    "%matplotlib inline \r\n",
    "import matplotlib.pyplot as plt"
   ],
   "outputs": [],
   "metadata": {}
  },
  {
   "cell_type": "markdown",
   "source": [
    "<h2 id=\"load_dataset\">Load the Cancer data</h2>\r\n",
    "The example is based on a dataset that is publicly available from the UCI Machine Learning Repository (Asuncion and Newman, 2007)[http://mlearn.ics.uci.edu/MLRepository.html]. The dataset consists of several hundred human cell sample records, each of which contains the values of a set of cell characteristics. The fields in each record are:\r\n",
    "\r\n",
    "|Field name|Description|\r\n",
    "|--- |--- |\r\n",
    "|ID|Clump thickness|\r\n",
    "|Clump|Clump thickness|\r\n",
    "|UnifSize|Uniformity of cell size|\r\n",
    "|UnifShape|Uniformity of cell shape|\r\n",
    "|MargAdh|Marginal adhesion|\r\n",
    "|SingEpiSize|Single epithelial cell size|\r\n",
    "|BareNuc|Bare nuclei|\r\n",
    "|BlandChrom|Bland chromatin|\r\n",
    "|NormNucl|Normal nucleoli|\r\n",
    "|Mit|Mitoses|\r\n",
    "|Class|Benign or malignant|\r\n",
    "\r\n",
    "<br>\r\n",
    "<br>\r\n",
    "\r\n",
    "\r\n"
   ],
   "metadata": {
    "button": false,
    "new_sheet": false,
    "run_control": {
     "read_only": false
    }
   }
  },
  {
   "cell_type": "markdown",
   "source": [
    "### Load Data From CSV File  "
   ],
   "metadata": {
    "button": false,
    "new_sheet": false,
    "run_control": {
     "read_only": false
    }
   }
  },
  {
   "cell_type": "code",
   "execution_count": 33,
   "source": [
    "cell_df = pd.read_csv(\"https://s3-api.us-geo.objectstorage.softlayer.net/cf-courses-data/CognitiveClass/ML0101ENv3/labs/cell_samples.csv\")\r\n",
    "#cell_df.head()\r\n",
    "cell_df[:10]\r\n"
   ],
   "outputs": [
    {
     "output_type": "execute_result",
     "data": {
      "text/plain": [
       "        ID  Clump  UnifSize  UnifShape  MargAdh  SingEpiSize BareNuc  \\\n",
       "0  1000025      5         1          1        1            2       1   \n",
       "1  1002945      5         4          4        5            7      10   \n",
       "2  1015425      3         1          1        1            2       2   \n",
       "3  1016277      6         8          8        1            3       4   \n",
       "4  1017023      4         1          1        3            2       1   \n",
       "5  1017122      8        10         10        8            7      10   \n",
       "6  1018099      1         1          1        1            2      10   \n",
       "7  1018561      2         1          2        1            2       1   \n",
       "8  1033078      2         1          1        1            2       1   \n",
       "9  1033078      4         2          1        1            2       1   \n",
       "\n",
       "   BlandChrom  NormNucl  Mit  Class  \n",
       "0           3         1    1      2  \n",
       "1           3         2    1      2  \n",
       "2           3         1    1      2  \n",
       "3           3         7    1      2  \n",
       "4           3         1    1      2  \n",
       "5           9         7    1      4  \n",
       "6           3         1    1      2  \n",
       "7           3         1    1      2  \n",
       "8           1         1    5      2  \n",
       "9           2         1    1      2  "
      ],
      "text/html": [
       "<div>\n",
       "<style scoped>\n",
       "    .dataframe tbody tr th:only-of-type {\n",
       "        vertical-align: middle;\n",
       "    }\n",
       "\n",
       "    .dataframe tbody tr th {\n",
       "        vertical-align: top;\n",
       "    }\n",
       "\n",
       "    .dataframe thead th {\n",
       "        text-align: right;\n",
       "    }\n",
       "</style>\n",
       "<table border=\"1\" class=\"dataframe\">\n",
       "  <thead>\n",
       "    <tr style=\"text-align: right;\">\n",
       "      <th></th>\n",
       "      <th>ID</th>\n",
       "      <th>Clump</th>\n",
       "      <th>UnifSize</th>\n",
       "      <th>UnifShape</th>\n",
       "      <th>MargAdh</th>\n",
       "      <th>SingEpiSize</th>\n",
       "      <th>BareNuc</th>\n",
       "      <th>BlandChrom</th>\n",
       "      <th>NormNucl</th>\n",
       "      <th>Mit</th>\n",
       "      <th>Class</th>\n",
       "    </tr>\n",
       "  </thead>\n",
       "  <tbody>\n",
       "    <tr>\n",
       "      <th>0</th>\n",
       "      <td>1000025</td>\n",
       "      <td>5</td>\n",
       "      <td>1</td>\n",
       "      <td>1</td>\n",
       "      <td>1</td>\n",
       "      <td>2</td>\n",
       "      <td>1</td>\n",
       "      <td>3</td>\n",
       "      <td>1</td>\n",
       "      <td>1</td>\n",
       "      <td>2</td>\n",
       "    </tr>\n",
       "    <tr>\n",
       "      <th>1</th>\n",
       "      <td>1002945</td>\n",
       "      <td>5</td>\n",
       "      <td>4</td>\n",
       "      <td>4</td>\n",
       "      <td>5</td>\n",
       "      <td>7</td>\n",
       "      <td>10</td>\n",
       "      <td>3</td>\n",
       "      <td>2</td>\n",
       "      <td>1</td>\n",
       "      <td>2</td>\n",
       "    </tr>\n",
       "    <tr>\n",
       "      <th>2</th>\n",
       "      <td>1015425</td>\n",
       "      <td>3</td>\n",
       "      <td>1</td>\n",
       "      <td>1</td>\n",
       "      <td>1</td>\n",
       "      <td>2</td>\n",
       "      <td>2</td>\n",
       "      <td>3</td>\n",
       "      <td>1</td>\n",
       "      <td>1</td>\n",
       "      <td>2</td>\n",
       "    </tr>\n",
       "    <tr>\n",
       "      <th>3</th>\n",
       "      <td>1016277</td>\n",
       "      <td>6</td>\n",
       "      <td>8</td>\n",
       "      <td>8</td>\n",
       "      <td>1</td>\n",
       "      <td>3</td>\n",
       "      <td>4</td>\n",
       "      <td>3</td>\n",
       "      <td>7</td>\n",
       "      <td>1</td>\n",
       "      <td>2</td>\n",
       "    </tr>\n",
       "    <tr>\n",
       "      <th>4</th>\n",
       "      <td>1017023</td>\n",
       "      <td>4</td>\n",
       "      <td>1</td>\n",
       "      <td>1</td>\n",
       "      <td>3</td>\n",
       "      <td>2</td>\n",
       "      <td>1</td>\n",
       "      <td>3</td>\n",
       "      <td>1</td>\n",
       "      <td>1</td>\n",
       "      <td>2</td>\n",
       "    </tr>\n",
       "    <tr>\n",
       "      <th>5</th>\n",
       "      <td>1017122</td>\n",
       "      <td>8</td>\n",
       "      <td>10</td>\n",
       "      <td>10</td>\n",
       "      <td>8</td>\n",
       "      <td>7</td>\n",
       "      <td>10</td>\n",
       "      <td>9</td>\n",
       "      <td>7</td>\n",
       "      <td>1</td>\n",
       "      <td>4</td>\n",
       "    </tr>\n",
       "    <tr>\n",
       "      <th>6</th>\n",
       "      <td>1018099</td>\n",
       "      <td>1</td>\n",
       "      <td>1</td>\n",
       "      <td>1</td>\n",
       "      <td>1</td>\n",
       "      <td>2</td>\n",
       "      <td>10</td>\n",
       "      <td>3</td>\n",
       "      <td>1</td>\n",
       "      <td>1</td>\n",
       "      <td>2</td>\n",
       "    </tr>\n",
       "    <tr>\n",
       "      <th>7</th>\n",
       "      <td>1018561</td>\n",
       "      <td>2</td>\n",
       "      <td>1</td>\n",
       "      <td>2</td>\n",
       "      <td>1</td>\n",
       "      <td>2</td>\n",
       "      <td>1</td>\n",
       "      <td>3</td>\n",
       "      <td>1</td>\n",
       "      <td>1</td>\n",
       "      <td>2</td>\n",
       "    </tr>\n",
       "    <tr>\n",
       "      <th>8</th>\n",
       "      <td>1033078</td>\n",
       "      <td>2</td>\n",
       "      <td>1</td>\n",
       "      <td>1</td>\n",
       "      <td>1</td>\n",
       "      <td>2</td>\n",
       "      <td>1</td>\n",
       "      <td>1</td>\n",
       "      <td>1</td>\n",
       "      <td>5</td>\n",
       "      <td>2</td>\n",
       "    </tr>\n",
       "    <tr>\n",
       "      <th>9</th>\n",
       "      <td>1033078</td>\n",
       "      <td>4</td>\n",
       "      <td>2</td>\n",
       "      <td>1</td>\n",
       "      <td>1</td>\n",
       "      <td>2</td>\n",
       "      <td>1</td>\n",
       "      <td>2</td>\n",
       "      <td>1</td>\n",
       "      <td>1</td>\n",
       "      <td>2</td>\n",
       "    </tr>\n",
       "  </tbody>\n",
       "</table>\n",
       "</div>"
      ]
     },
     "metadata": {},
     "execution_count": 33
    }
   ],
   "metadata": {
    "button": false,
    "new_sheet": false,
    "run_control": {
     "read_only": false
    }
   }
  },
  {
   "cell_type": "markdown",
   "source": [
    "The ID field contains the patient identifiers. The characteristics of the cell samples from each patient are contained in fields Clump to Mit. The values are graded from 1 to 10, with 1 being the closest to benign.\n",
    "\n",
    "The Class field contains the diagnosis, as confirmed by separate medical procedures, as to whether the samples are benign (value = 2) or malignant (value = 4).\n",
    "\n",
    "Lets look at the distribution of the classes based on Clump thickness and Uniformity of cell size:"
   ],
   "metadata": {}
  },
  {
   "cell_type": "code",
   "execution_count": 34,
   "source": [
    "ax = cell_df[cell_df['Class'] == 4][0:50].plot(kind='scatter', x='Clump', y='UnifSize', color='DarkBlue', label='malignant');\r\n",
    "cell_df[cell_df['Class'] == 2][0:50].plot(kind='scatter', x='Clump', y='UnifSize', color='Yellow', label='benign', ax=ax);\r\n",
    "plt.show()"
   ],
   "outputs": [
    {
     "output_type": "display_data",
     "data": {
      "text/plain": [
       "<Figure size 432x288 with 1 Axes>"
      ],
      "image/svg+xml": "<?xml version=\"1.0\" encoding=\"utf-8\" standalone=\"no\"?>\r\n<!DOCTYPE svg PUBLIC \"-//W3C//DTD SVG 1.1//EN\"\r\n  \"http://www.w3.org/Graphics/SVG/1.1/DTD/svg11.dtd\">\r\n<svg height=\"262.19625pt\" version=\"1.1\" viewBox=\"0 0 382.603125 262.19625\" width=\"382.603125pt\" xmlns=\"http://www.w3.org/2000/svg\" xmlns:xlink=\"http://www.w3.org/1999/xlink\">\r\n <metadata>\r\n  <rdf:RDF xmlns:cc=\"http://creativecommons.org/ns#\" xmlns:dc=\"http://purl.org/dc/elements/1.1/\" xmlns:rdf=\"http://www.w3.org/1999/02/22-rdf-syntax-ns#\">\r\n   <cc:Work>\r\n    <dc:type rdf:resource=\"http://purl.org/dc/dcmitype/StillImage\"/>\r\n    <dc:date>2021-08-07T14:33:38.899723</dc:date>\r\n    <dc:format>image/svg+xml</dc:format>\r\n    <dc:creator>\r\n     <cc:Agent>\r\n      <dc:title>Matplotlib v3.4.2, https://matplotlib.org/</dc:title>\r\n     </cc:Agent>\r\n    </dc:creator>\r\n   </cc:Work>\r\n  </rdf:RDF>\r\n </metadata>\r\n <defs>\r\n  <style type=\"text/css\">*{stroke-linecap:butt;stroke-linejoin:round;}</style>\r\n </defs>\r\n <g id=\"figure_1\">\r\n  <g id=\"patch_1\">\r\n   <path d=\"M 0 262.19625 \r\nL 382.603125 262.19625 \r\nL 382.603125 0 \r\nL 0 0 \r\nz\r\n\" style=\"fill:none;\"/>\r\n  </g>\r\n  <g id=\"axes_1\">\r\n   <g id=\"patch_2\">\r\n    <path d=\"M 40.603125 224.64 \r\nL 375.403125 224.64 \r\nL 375.403125 7.2 \r\nL 40.603125 7.2 \r\nz\r\n\" style=\"fill:#ffffff;\"/>\r\n   </g>\r\n   <g id=\"PathCollection_1\">\r\n    <defs>\r\n     <path d=\"M 0 2.236068 \r\nC 0.593012 2.236068 1.161816 2.000462 1.581139 1.581139 \r\nC 2.000462 1.161816 2.236068 0.593012 2.236068 0 \r\nC 2.236068 -0.593012 2.000462 -1.161816 1.581139 -1.581139 \r\nC 1.161816 -2.000462 0.593012 -2.236068 0 -2.236068 \r\nC -0.593012 -2.236068 -1.161816 -2.000462 -1.581139 -1.581139 \r\nC -2.000462 -1.161816 -2.236068 -0.593012 -2.236068 0 \r\nC -2.236068 0.593012 -2.000462 1.161816 -1.581139 1.581139 \r\nC -1.161816 2.000462 -0.593012 2.236068 0 2.236068 \r\nz\r\n\" id=\"m46e6e2d5dd\" style=\"stroke:#00008b;\"/>\r\n    </defs>\r\n    <g clip-path=\"url(#p7937cfdaa4)\">\r\n     <use style=\"fill:#00008b;stroke:#00008b;\" x=\"292.54858\" xlink:href=\"#m46e6e2d5dd\" y=\"17.083636\"/>\r\n     <use style=\"fill:#00008b;stroke:#00008b;\" x=\"191.094034\" xlink:href=\"#m46e6e2d5dd\" y=\"170.829091\"/>\r\n     <use style=\"fill:#00008b;stroke:#00008b;\" x=\"292.54858\" xlink:href=\"#m46e6e2d5dd\" y=\"82.974545\"/>\r\n     <use style=\"fill:#00008b;stroke:#00008b;\" x=\"258.730398\" xlink:href=\"#m46e6e2d5dd\" y=\"148.865455\"/>\r\n     <use style=\"fill:#00008b;stroke:#00008b;\" x=\"360.184943\" xlink:href=\"#m46e6e2d5dd\" y=\"82.974545\"/>\r\n     <use style=\"fill:#00008b;stroke:#00008b;\" x=\"258.730398\" xlink:href=\"#m46e6e2d5dd\" y=\"170.829091\"/>\r\n     <use style=\"fill:#00008b;stroke:#00008b;\" x=\"360.184943\" xlink:href=\"#m46e6e2d5dd\" y=\"126.901818\"/>\r\n     <use style=\"fill:#00008b;stroke:#00008b;\" x=\"292.54858\" xlink:href=\"#m46e6e2d5dd\" y=\"148.865455\"/>\r\n     <use style=\"fill:#00008b;stroke:#00008b;\" x=\"191.094034\" xlink:href=\"#m46e6e2d5dd\" y=\"192.792727\"/>\r\n     <use style=\"fill:#00008b;stroke:#00008b;\" x=\"360.184943\" xlink:href=\"#m46e6e2d5dd\" y=\"82.974545\"/>\r\n     <use style=\"fill:#00008b;stroke:#00008b;\" x=\"360.184943\" xlink:href=\"#m46e6e2d5dd\" y=\"17.083636\"/>\r\n     <use style=\"fill:#00008b;stroke:#00008b;\" x=\"191.094034\" xlink:href=\"#m46e6e2d5dd\" y=\"148.865455\"/>\r\n     <use style=\"fill:#00008b;stroke:#00008b;\" x=\"89.639489\" xlink:href=\"#m46e6e2d5dd\" y=\"126.901818\"/>\r\n     <use style=\"fill:#00008b;stroke:#00008b;\" x=\"360.184943\" xlink:href=\"#m46e6e2d5dd\" y=\"148.865455\"/>\r\n     <use style=\"fill:#00008b;stroke:#00008b;\" x=\"224.912216\" xlink:href=\"#m46e6e2d5dd\" y=\"17.083636\"/>\r\n     <use style=\"fill:#00008b;stroke:#00008b;\" x=\"191.094034\" xlink:href=\"#m46e6e2d5dd\" y=\"104.938182\"/>\r\n     <use style=\"fill:#00008b;stroke:#00008b;\" x=\"360.184943\" xlink:href=\"#m46e6e2d5dd\" y=\"17.083636\"/>\r\n     <use style=\"fill:#00008b;stroke:#00008b;\" x=\"123.45767\" xlink:href=\"#m46e6e2d5dd\" y=\"82.974545\"/>\r\n     <use style=\"fill:#00008b;stroke:#00008b;\" x=\"258.730398\" xlink:href=\"#m46e6e2d5dd\" y=\"61.010909\"/>\r\n     <use style=\"fill:#00008b;stroke:#00008b;\" x=\"326.366761\" xlink:href=\"#m46e6e2d5dd\" y=\"126.901818\"/>\r\n     <use style=\"fill:#00008b;stroke:#00008b;\" x=\"191.094034\" xlink:href=\"#m46e6e2d5dd\" y=\"170.829091\"/>\r\n     <use style=\"fill:#00008b;stroke:#00008b;\" x=\"360.184943\" xlink:href=\"#m46e6e2d5dd\" y=\"170.829091\"/>\r\n     <use style=\"fill:#00008b;stroke:#00008b;\" x=\"191.094034\" xlink:href=\"#m46e6e2d5dd\" y=\"126.901818\"/>\r\n     <use style=\"fill:#00008b;stroke:#00008b;\" x=\"360.184943\" xlink:href=\"#m46e6e2d5dd\" y=\"126.901818\"/>\r\n     <use style=\"fill:#00008b;stroke:#00008b;\" x=\"360.184943\" xlink:href=\"#m46e6e2d5dd\" y=\"104.938182\"/>\r\n     <use style=\"fill:#00008b;stroke:#00008b;\" x=\"292.54858\" xlink:href=\"#m46e6e2d5dd\" y=\"17.083636\"/>\r\n     <use style=\"fill:#00008b;stroke:#00008b;\" x=\"292.54858\" xlink:href=\"#m46e6e2d5dd\" y=\"192.792727\"/>\r\n     <use style=\"fill:#00008b;stroke:#00008b;\" x=\"191.094034\" xlink:href=\"#m46e6e2d5dd\" y=\"192.792727\"/>\r\n     <use style=\"fill:#00008b;stroke:#00008b;\" x=\"326.366761\" xlink:href=\"#m46e6e2d5dd\" y=\"126.901818\"/>\r\n     <use style=\"fill:#00008b;stroke:#00008b;\" x=\"191.094034\" xlink:href=\"#m46e6e2d5dd\" y=\"170.829091\"/>\r\n     <use style=\"fill:#00008b;stroke:#00008b;\" x=\"326.366761\" xlink:href=\"#m46e6e2d5dd\" y=\"17.083636\"/>\r\n     <use style=\"fill:#00008b;stroke:#00008b;\" x=\"224.912216\" xlink:href=\"#m46e6e2d5dd\" y=\"170.829091\"/>\r\n     <use style=\"fill:#00008b;stroke:#00008b;\" x=\"360.184943\" xlink:href=\"#m46e6e2d5dd\" y=\"148.865455\"/>\r\n     <use style=\"fill:#00008b;stroke:#00008b;\" x=\"191.094034\" xlink:href=\"#m46e6e2d5dd\" y=\"170.829091\"/>\r\n     <use style=\"fill:#00008b;stroke:#00008b;\" x=\"292.54858\" xlink:href=\"#m46e6e2d5dd\" y=\"170.829091\"/>\r\n     <use style=\"fill:#00008b;stroke:#00008b;\" x=\"224.912216\" xlink:href=\"#m46e6e2d5dd\" y=\"17.083636\"/>\r\n     <use style=\"fill:#00008b;stroke:#00008b;\" x=\"326.366761\" xlink:href=\"#m46e6e2d5dd\" y=\"148.865455\"/>\r\n     <use style=\"fill:#00008b;stroke:#00008b;\" x=\"360.184943\" xlink:href=\"#m46e6e2d5dd\" y=\"104.938182\"/>\r\n     <use style=\"fill:#00008b;stroke:#00008b;\" x=\"123.45767\" xlink:href=\"#m46e6e2d5dd\" y=\"126.901818\"/>\r\n     <use style=\"fill:#00008b;stroke:#00008b;\" x=\"191.094034\" xlink:href=\"#m46e6e2d5dd\" y=\"17.083636\"/>\r\n     <use style=\"fill:#00008b;stroke:#00008b;\" x=\"123.45767\" xlink:href=\"#m46e6e2d5dd\" y=\"170.829091\"/>\r\n     <use style=\"fill:#00008b;stroke:#00008b;\" x=\"123.45767\" xlink:href=\"#m46e6e2d5dd\" y=\"104.938182\"/>\r\n     <use style=\"fill:#00008b;stroke:#00008b;\" x=\"326.366761\" xlink:href=\"#m46e6e2d5dd\" y=\"104.938182\"/>\r\n     <use style=\"fill:#00008b;stroke:#00008b;\" x=\"258.730398\" xlink:href=\"#m46e6e2d5dd\" y=\"126.901818\"/>\r\n     <use style=\"fill:#00008b;stroke:#00008b;\" x=\"360.184943\" xlink:href=\"#m46e6e2d5dd\" y=\"170.829091\"/>\r\n     <use style=\"fill:#00008b;stroke:#00008b;\" x=\"89.639489\" xlink:href=\"#m46e6e2d5dd\" y=\"170.829091\"/>\r\n     <use style=\"fill:#00008b;stroke:#00008b;\" x=\"292.54858\" xlink:href=\"#m46e6e2d5dd\" y=\"192.792727\"/>\r\n     <use style=\"fill:#00008b;stroke:#00008b;\" x=\"360.184943\" xlink:href=\"#m46e6e2d5dd\" y=\"17.083636\"/>\r\n     <use style=\"fill:#00008b;stroke:#00008b;\" x=\"258.730398\" xlink:href=\"#m46e6e2d5dd\" y=\"170.829091\"/>\r\n     <use style=\"fill:#00008b;stroke:#00008b;\" x=\"360.184943\" xlink:href=\"#m46e6e2d5dd\" y=\"17.083636\"/>\r\n    </g>\r\n   </g>\r\n   <g id=\"PathCollection_2\">\r\n    <defs>\r\n     <path d=\"M 0 2.236068 \r\nC 0.593012 2.236068 1.161816 2.000462 1.581139 1.581139 \r\nC 2.000462 1.161816 2.236068 0.593012 2.236068 0 \r\nC 2.236068 -0.593012 2.000462 -1.161816 1.581139 -1.581139 \r\nC 1.161816 -2.000462 0.593012 -2.236068 0 -2.236068 \r\nC -0.593012 -2.236068 -1.161816 -2.000462 -1.581139 -1.581139 \r\nC -2.000462 -1.161816 -2.236068 -0.593012 -2.236068 0 \r\nC -2.236068 0.593012 -2.000462 1.161816 -1.581139 1.581139 \r\nC -1.161816 2.000462 -0.593012 2.236068 0 2.236068 \r\nz\r\n\" id=\"m088c6673ab\" style=\"stroke:#ffff00;\"/>\r\n    </defs>\r\n    <g clip-path=\"url(#p7937cfdaa4)\">\r\n     <use style=\"fill:#ffff00;stroke:#ffff00;\" x=\"191.094034\" xlink:href=\"#m088c6673ab\" y=\"214.756364\"/>\r\n     <use style=\"fill:#ffff00;stroke:#ffff00;\" x=\"191.094034\" xlink:href=\"#m088c6673ab\" y=\"148.865455\"/>\r\n     <use style=\"fill:#ffff00;stroke:#ffff00;\" x=\"123.45767\" xlink:href=\"#m088c6673ab\" y=\"214.756364\"/>\r\n     <use style=\"fill:#ffff00;stroke:#ffff00;\" x=\"224.912216\" xlink:href=\"#m088c6673ab\" y=\"61.010909\"/>\r\n     <use style=\"fill:#ffff00;stroke:#ffff00;\" x=\"157.275852\" xlink:href=\"#m088c6673ab\" y=\"214.756364\"/>\r\n     <use style=\"fill:#ffff00;stroke:#ffff00;\" x=\"55.821307\" xlink:href=\"#m088c6673ab\" y=\"214.756364\"/>\r\n     <use style=\"fill:#ffff00;stroke:#ffff00;\" x=\"89.639489\" xlink:href=\"#m088c6673ab\" y=\"214.756364\"/>\r\n     <use style=\"fill:#ffff00;stroke:#ffff00;\" x=\"89.639489\" xlink:href=\"#m088c6673ab\" y=\"214.756364\"/>\r\n     <use style=\"fill:#ffff00;stroke:#ffff00;\" x=\"157.275852\" xlink:href=\"#m088c6673ab\" y=\"192.792727\"/>\r\n     <use style=\"fill:#ffff00;stroke:#ffff00;\" x=\"55.821307\" xlink:href=\"#m088c6673ab\" y=\"214.756364\"/>\r\n     <use style=\"fill:#ffff00;stroke:#ffff00;\" x=\"89.639489\" xlink:href=\"#m088c6673ab\" y=\"214.756364\"/>\r\n     <use style=\"fill:#ffff00;stroke:#ffff00;\" x=\"55.821307\" xlink:href=\"#m088c6673ab\" y=\"214.756364\"/>\r\n     <use style=\"fill:#ffff00;stroke:#ffff00;\" x=\"157.275852\" xlink:href=\"#m088c6673ab\" y=\"214.756364\"/>\r\n     <use style=\"fill:#ffff00;stroke:#ffff00;\" x=\"157.275852\" xlink:href=\"#m088c6673ab\" y=\"214.756364\"/>\r\n     <use style=\"fill:#ffff00;stroke:#ffff00;\" x=\"224.912216\" xlink:href=\"#m088c6673ab\" y=\"214.756364\"/>\r\n     <use style=\"fill:#ffff00;stroke:#ffff00;\" x=\"123.45767\" xlink:href=\"#m088c6673ab\" y=\"214.756364\"/>\r\n     <use style=\"fill:#ffff00;stroke:#ffff00;\" x=\"55.821307\" xlink:href=\"#m088c6673ab\" y=\"214.756364\"/>\r\n     <use style=\"fill:#ffff00;stroke:#ffff00;\" x=\"123.45767\" xlink:href=\"#m088c6673ab\" y=\"192.792727\"/>\r\n     <use style=\"fill:#ffff00;stroke:#ffff00;\" x=\"191.094034\" xlink:href=\"#m088c6673ab\" y=\"214.756364\"/>\r\n     <use style=\"fill:#ffff00;stroke:#ffff00;\" x=\"89.639489\" xlink:href=\"#m088c6673ab\" y=\"214.756364\"/>\r\n     <use style=\"fill:#ffff00;stroke:#ffff00;\" x=\"55.821307\" xlink:href=\"#m088c6673ab\" y=\"214.756364\"/>\r\n     <use style=\"fill:#ffff00;stroke:#ffff00;\" x=\"123.45767\" xlink:href=\"#m088c6673ab\" y=\"214.756364\"/>\r\n     <use style=\"fill:#ffff00;stroke:#ffff00;\" x=\"89.639489\" xlink:href=\"#m088c6673ab\" y=\"214.756364\"/>\r\n     <use style=\"fill:#ffff00;stroke:#ffff00;\" x=\"89.639489\" xlink:href=\"#m088c6673ab\" y=\"214.756364\"/>\r\n     <use style=\"fill:#ffff00;stroke:#ffff00;\" x=\"123.45767\" xlink:href=\"#m088c6673ab\" y=\"214.756364\"/>\r\n     <use style=\"fill:#ffff00;stroke:#ffff00;\" x=\"89.639489\" xlink:href=\"#m088c6673ab\" y=\"214.756364\"/>\r\n     <use style=\"fill:#ffff00;stroke:#ffff00;\" x=\"224.912216\" xlink:href=\"#m088c6673ab\" y=\"192.792727\"/>\r\n     <use style=\"fill:#ffff00;stroke:#ffff00;\" x=\"224.912216\" xlink:href=\"#m088c6673ab\" y=\"104.938182\"/>\r\n     <use style=\"fill:#ffff00;stroke:#ffff00;\" x=\"55.821307\" xlink:href=\"#m088c6673ab\" y=\"214.756364\"/>\r\n     <use style=\"fill:#ffff00;stroke:#ffff00;\" x=\"55.821307\" xlink:href=\"#m088c6673ab\" y=\"214.756364\"/>\r\n     <use style=\"fill:#ffff00;stroke:#ffff00;\" x=\"157.275852\" xlink:href=\"#m088c6673ab\" y=\"214.756364\"/>\r\n     <use style=\"fill:#ffff00;stroke:#ffff00;\" x=\"55.821307\" xlink:href=\"#m088c6673ab\" y=\"214.756364\"/>\r\n     <use style=\"fill:#ffff00;stroke:#ffff00;\" x=\"55.821307\" xlink:href=\"#m088c6673ab\" y=\"214.756364\"/>\r\n     <use style=\"fill:#ffff00;stroke:#ffff00;\" x=\"157.275852\" xlink:href=\"#m088c6673ab\" y=\"214.756364\"/>\r\n     <use style=\"fill:#ffff00;stroke:#ffff00;\" x=\"55.821307\" xlink:href=\"#m088c6673ab\" y=\"214.756364\"/>\r\n     <use style=\"fill:#ffff00;stroke:#ffff00;\" x=\"191.094034\" xlink:href=\"#m088c6673ab\" y=\"214.756364\"/>\r\n     <use style=\"fill:#ffff00;stroke:#ffff00;\" x=\"55.821307\" xlink:href=\"#m088c6673ab\" y=\"170.829091\"/>\r\n     <use style=\"fill:#ffff00;stroke:#ffff00;\" x=\"55.821307\" xlink:href=\"#m088c6673ab\" y=\"214.756364\"/>\r\n     <use style=\"fill:#ffff00;stroke:#ffff00;\" x=\"55.821307\" xlink:href=\"#m088c6673ab\" y=\"214.756364\"/>\r\n     <use style=\"fill:#ffff00;stroke:#ffff00;\" x=\"191.094034\" xlink:href=\"#m088c6673ab\" y=\"170.829091\"/>\r\n     <use style=\"fill:#ffff00;stroke:#ffff00;\" x=\"123.45767\" xlink:href=\"#m088c6673ab\" y=\"214.756364\"/>\r\n     <use style=\"fill:#ffff00;stroke:#ffff00;\" x=\"89.639489\" xlink:href=\"#m088c6673ab\" y=\"214.756364\"/>\r\n     <use style=\"fill:#ffff00;stroke:#ffff00;\" x=\"89.639489\" xlink:href=\"#m088c6673ab\" y=\"192.792727\"/>\r\n     <use style=\"fill:#ffff00;stroke:#ffff00;\" x=\"157.275852\" xlink:href=\"#m088c6673ab\" y=\"214.756364\"/>\r\n     <use style=\"fill:#ffff00;stroke:#ffff00;\" x=\"191.094034\" xlink:href=\"#m088c6673ab\" y=\"192.792727\"/>\r\n     <use style=\"fill:#ffff00;stroke:#ffff00;\" x=\"123.45767\" xlink:href=\"#m088c6673ab\" y=\"214.756364\"/>\r\n     <use style=\"fill:#ffff00;stroke:#ffff00;\" x=\"157.275852\" xlink:href=\"#m088c6673ab\" y=\"214.756364\"/>\r\n     <use style=\"fill:#ffff00;stroke:#ffff00;\" x=\"89.639489\" xlink:href=\"#m088c6673ab\" y=\"214.756364\"/>\r\n     <use style=\"fill:#ffff00;stroke:#ffff00;\" x=\"55.821307\" xlink:href=\"#m088c6673ab\" y=\"214.756364\"/>\r\n     <use style=\"fill:#ffff00;stroke:#ffff00;\" x=\"123.45767\" xlink:href=\"#m088c6673ab\" y=\"214.756364\"/>\r\n    </g>\r\n   </g>\r\n   <g id=\"matplotlib.axis_1\">\r\n    <g id=\"xtick_1\">\r\n     <g id=\"line2d_1\">\r\n      <defs>\r\n       <path d=\"M 0 0 \r\nL 0 3.5 \r\n\" id=\"madadf4b110\" style=\"stroke:#000000;stroke-width:0.8;\"/>\r\n      </defs>\r\n      <g>\r\n       <use style=\"stroke:#000000;stroke-width:0.8;\" x=\"89.639489\" xlink:href=\"#madadf4b110\" y=\"224.64\"/>\r\n      </g>\r\n     </g>\r\n     <g id=\"text_1\">\r\n      <!-- 2 -->\r\n      <g transform=\"translate(86.458239 239.238437)scale(0.1 -0.1)\">\r\n       <defs>\r\n        <path d=\"M 1228 531 \r\nL 3431 531 \r\nL 3431 0 \r\nL 469 0 \r\nL 469 531 \r\nQ 828 903 1448 1529 \r\nQ 2069 2156 2228 2338 \r\nQ 2531 2678 2651 2914 \r\nQ 2772 3150 2772 3378 \r\nQ 2772 3750 2511 3984 \r\nQ 2250 4219 1831 4219 \r\nQ 1534 4219 1204 4116 \r\nQ 875 4013 500 3803 \r\nL 500 4441 \r\nQ 881 4594 1212 4672 \r\nQ 1544 4750 1819 4750 \r\nQ 2544 4750 2975 4387 \r\nQ 3406 4025 3406 3419 \r\nQ 3406 3131 3298 2873 \r\nQ 3191 2616 2906 2266 \r\nQ 2828 2175 2409 1742 \r\nQ 1991 1309 1228 531 \r\nz\r\n\" id=\"DejaVuSans-32\" transform=\"scale(0.015625)\"/>\r\n       </defs>\r\n       <use xlink:href=\"#DejaVuSans-32\"/>\r\n      </g>\r\n     </g>\r\n    </g>\r\n    <g id=\"xtick_2\">\r\n     <g id=\"line2d_2\">\r\n      <g>\r\n       <use style=\"stroke:#000000;stroke-width:0.8;\" x=\"157.275852\" xlink:href=\"#madadf4b110\" y=\"224.64\"/>\r\n      </g>\r\n     </g>\r\n     <g id=\"text_2\">\r\n      <!-- 4 -->\r\n      <g transform=\"translate(154.094602 239.238437)scale(0.1 -0.1)\">\r\n       <defs>\r\n        <path d=\"M 2419 4116 \r\nL 825 1625 \r\nL 2419 1625 \r\nL 2419 4116 \r\nz\r\nM 2253 4666 \r\nL 3047 4666 \r\nL 3047 1625 \r\nL 3713 1625 \r\nL 3713 1100 \r\nL 3047 1100 \r\nL 3047 0 \r\nL 2419 0 \r\nL 2419 1100 \r\nL 313 1100 \r\nL 313 1709 \r\nL 2253 4666 \r\nz\r\n\" id=\"DejaVuSans-34\" transform=\"scale(0.015625)\"/>\r\n       </defs>\r\n       <use xlink:href=\"#DejaVuSans-34\"/>\r\n      </g>\r\n     </g>\r\n    </g>\r\n    <g id=\"xtick_3\">\r\n     <g id=\"line2d_3\">\r\n      <g>\r\n       <use style=\"stroke:#000000;stroke-width:0.8;\" x=\"224.912216\" xlink:href=\"#madadf4b110\" y=\"224.64\"/>\r\n      </g>\r\n     </g>\r\n     <g id=\"text_3\">\r\n      <!-- 6 -->\r\n      <g transform=\"translate(221.730966 239.238437)scale(0.1 -0.1)\">\r\n       <defs>\r\n        <path d=\"M 2113 2584 \r\nQ 1688 2584 1439 2293 \r\nQ 1191 2003 1191 1497 \r\nQ 1191 994 1439 701 \r\nQ 1688 409 2113 409 \r\nQ 2538 409 2786 701 \r\nQ 3034 994 3034 1497 \r\nQ 3034 2003 2786 2293 \r\nQ 2538 2584 2113 2584 \r\nz\r\nM 3366 4563 \r\nL 3366 3988 \r\nQ 3128 4100 2886 4159 \r\nQ 2644 4219 2406 4219 \r\nQ 1781 4219 1451 3797 \r\nQ 1122 3375 1075 2522 \r\nQ 1259 2794 1537 2939 \r\nQ 1816 3084 2150 3084 \r\nQ 2853 3084 3261 2657 \r\nQ 3669 2231 3669 1497 \r\nQ 3669 778 3244 343 \r\nQ 2819 -91 2113 -91 \r\nQ 1303 -91 875 529 \r\nQ 447 1150 447 2328 \r\nQ 447 3434 972 4092 \r\nQ 1497 4750 2381 4750 \r\nQ 2619 4750 2861 4703 \r\nQ 3103 4656 3366 4563 \r\nz\r\n\" id=\"DejaVuSans-36\" transform=\"scale(0.015625)\"/>\r\n       </defs>\r\n       <use xlink:href=\"#DejaVuSans-36\"/>\r\n      </g>\r\n     </g>\r\n    </g>\r\n    <g id=\"xtick_4\">\r\n     <g id=\"line2d_4\">\r\n      <g>\r\n       <use style=\"stroke:#000000;stroke-width:0.8;\" x=\"292.54858\" xlink:href=\"#madadf4b110\" y=\"224.64\"/>\r\n      </g>\r\n     </g>\r\n     <g id=\"text_4\">\r\n      <!-- 8 -->\r\n      <g transform=\"translate(289.36733 239.238437)scale(0.1 -0.1)\">\r\n       <defs>\r\n        <path d=\"M 2034 2216 \r\nQ 1584 2216 1326 1975 \r\nQ 1069 1734 1069 1313 \r\nQ 1069 891 1326 650 \r\nQ 1584 409 2034 409 \r\nQ 2484 409 2743 651 \r\nQ 3003 894 3003 1313 \r\nQ 3003 1734 2745 1975 \r\nQ 2488 2216 2034 2216 \r\nz\r\nM 1403 2484 \r\nQ 997 2584 770 2862 \r\nQ 544 3141 544 3541 \r\nQ 544 4100 942 4425 \r\nQ 1341 4750 2034 4750 \r\nQ 2731 4750 3128 4425 \r\nQ 3525 4100 3525 3541 \r\nQ 3525 3141 3298 2862 \r\nQ 3072 2584 2669 2484 \r\nQ 3125 2378 3379 2068 \r\nQ 3634 1759 3634 1313 \r\nQ 3634 634 3220 271 \r\nQ 2806 -91 2034 -91 \r\nQ 1263 -91 848 271 \r\nQ 434 634 434 1313 \r\nQ 434 1759 690 2068 \r\nQ 947 2378 1403 2484 \r\nz\r\nM 1172 3481 \r\nQ 1172 3119 1398 2916 \r\nQ 1625 2713 2034 2713 \r\nQ 2441 2713 2670 2916 \r\nQ 2900 3119 2900 3481 \r\nQ 2900 3844 2670 4047 \r\nQ 2441 4250 2034 4250 \r\nQ 1625 4250 1398 4047 \r\nQ 1172 3844 1172 3481 \r\nz\r\n\" id=\"DejaVuSans-38\" transform=\"scale(0.015625)\"/>\r\n       </defs>\r\n       <use xlink:href=\"#DejaVuSans-38\"/>\r\n      </g>\r\n     </g>\r\n    </g>\r\n    <g id=\"xtick_5\">\r\n     <g id=\"line2d_5\">\r\n      <g>\r\n       <use style=\"stroke:#000000;stroke-width:0.8;\" x=\"360.184943\" xlink:href=\"#madadf4b110\" y=\"224.64\"/>\r\n      </g>\r\n     </g>\r\n     <g id=\"text_5\">\r\n      <!-- 10 -->\r\n      <g transform=\"translate(353.822443 239.238437)scale(0.1 -0.1)\">\r\n       <defs>\r\n        <path d=\"M 794 531 \r\nL 1825 531 \r\nL 1825 4091 \r\nL 703 3866 \r\nL 703 4441 \r\nL 1819 4666 \r\nL 2450 4666 \r\nL 2450 531 \r\nL 3481 531 \r\nL 3481 0 \r\nL 794 0 \r\nL 794 531 \r\nz\r\n\" id=\"DejaVuSans-31\" transform=\"scale(0.015625)\"/>\r\n        <path d=\"M 2034 4250 \r\nQ 1547 4250 1301 3770 \r\nQ 1056 3291 1056 2328 \r\nQ 1056 1369 1301 889 \r\nQ 1547 409 2034 409 \r\nQ 2525 409 2770 889 \r\nQ 3016 1369 3016 2328 \r\nQ 3016 3291 2770 3770 \r\nQ 2525 4250 2034 4250 \r\nz\r\nM 2034 4750 \r\nQ 2819 4750 3233 4129 \r\nQ 3647 3509 3647 2328 \r\nQ 3647 1150 3233 529 \r\nQ 2819 -91 2034 -91 \r\nQ 1250 -91 836 529 \r\nQ 422 1150 422 2328 \r\nQ 422 3509 836 4129 \r\nQ 1250 4750 2034 4750 \r\nz\r\n\" id=\"DejaVuSans-30\" transform=\"scale(0.015625)\"/>\r\n       </defs>\r\n       <use xlink:href=\"#DejaVuSans-31\"/>\r\n       <use x=\"63.623047\" xlink:href=\"#DejaVuSans-30\"/>\r\n      </g>\r\n     </g>\r\n    </g>\r\n    <g id=\"text_6\">\r\n     <!-- Clump -->\r\n     <g transform=\"translate(191.909375 252.916562)scale(0.1 -0.1)\">\r\n      <defs>\r\n       <path d=\"M 4122 4306 \r\nL 4122 3641 \r\nQ 3803 3938 3442 4084 \r\nQ 3081 4231 2675 4231 \r\nQ 1875 4231 1450 3742 \r\nQ 1025 3253 1025 2328 \r\nQ 1025 1406 1450 917 \r\nQ 1875 428 2675 428 \r\nQ 3081 428 3442 575 \r\nQ 3803 722 4122 1019 \r\nL 4122 359 \r\nQ 3791 134 3420 21 \r\nQ 3050 -91 2638 -91 \r\nQ 1578 -91 968 557 \r\nQ 359 1206 359 2328 \r\nQ 359 3453 968 4101 \r\nQ 1578 4750 2638 4750 \r\nQ 3056 4750 3426 4639 \r\nQ 3797 4528 4122 4306 \r\nz\r\n\" id=\"DejaVuSans-43\" transform=\"scale(0.015625)\"/>\r\n       <path d=\"M 603 4863 \r\nL 1178 4863 \r\nL 1178 0 \r\nL 603 0 \r\nL 603 4863 \r\nz\r\n\" id=\"DejaVuSans-6c\" transform=\"scale(0.015625)\"/>\r\n       <path d=\"M 544 1381 \r\nL 544 3500 \r\nL 1119 3500 \r\nL 1119 1403 \r\nQ 1119 906 1312 657 \r\nQ 1506 409 1894 409 \r\nQ 2359 409 2629 706 \r\nQ 2900 1003 2900 1516 \r\nL 2900 3500 \r\nL 3475 3500 \r\nL 3475 0 \r\nL 2900 0 \r\nL 2900 538 \r\nQ 2691 219 2414 64 \r\nQ 2138 -91 1772 -91 \r\nQ 1169 -91 856 284 \r\nQ 544 659 544 1381 \r\nz\r\nM 1991 3584 \r\nL 1991 3584 \r\nz\r\n\" id=\"DejaVuSans-75\" transform=\"scale(0.015625)\"/>\r\n       <path d=\"M 3328 2828 \r\nQ 3544 3216 3844 3400 \r\nQ 4144 3584 4550 3584 \r\nQ 5097 3584 5394 3201 \r\nQ 5691 2819 5691 2113 \r\nL 5691 0 \r\nL 5113 0 \r\nL 5113 2094 \r\nQ 5113 2597 4934 2840 \r\nQ 4756 3084 4391 3084 \r\nQ 3944 3084 3684 2787 \r\nQ 3425 2491 3425 1978 \r\nL 3425 0 \r\nL 2847 0 \r\nL 2847 2094 \r\nQ 2847 2600 2669 2842 \r\nQ 2491 3084 2119 3084 \r\nQ 1678 3084 1418 2786 \r\nQ 1159 2488 1159 1978 \r\nL 1159 0 \r\nL 581 0 \r\nL 581 3500 \r\nL 1159 3500 \r\nL 1159 2956 \r\nQ 1356 3278 1631 3431 \r\nQ 1906 3584 2284 3584 \r\nQ 2666 3584 2933 3390 \r\nQ 3200 3197 3328 2828 \r\nz\r\n\" id=\"DejaVuSans-6d\" transform=\"scale(0.015625)\"/>\r\n       <path d=\"M 1159 525 \r\nL 1159 -1331 \r\nL 581 -1331 \r\nL 581 3500 \r\nL 1159 3500 \r\nL 1159 2969 \r\nQ 1341 3281 1617 3432 \r\nQ 1894 3584 2278 3584 \r\nQ 2916 3584 3314 3078 \r\nQ 3713 2572 3713 1747 \r\nQ 3713 922 3314 415 \r\nQ 2916 -91 2278 -91 \r\nQ 1894 -91 1617 61 \r\nQ 1341 213 1159 525 \r\nz\r\nM 3116 1747 \r\nQ 3116 2381 2855 2742 \r\nQ 2594 3103 2138 3103 \r\nQ 1681 3103 1420 2742 \r\nQ 1159 2381 1159 1747 \r\nQ 1159 1113 1420 752 \r\nQ 1681 391 2138 391 \r\nQ 2594 391 2855 752 \r\nQ 3116 1113 3116 1747 \r\nz\r\n\" id=\"DejaVuSans-70\" transform=\"scale(0.015625)\"/>\r\n      </defs>\r\n      <use xlink:href=\"#DejaVuSans-43\"/>\r\n      <use x=\"69.824219\" xlink:href=\"#DejaVuSans-6c\"/>\r\n      <use x=\"97.607422\" xlink:href=\"#DejaVuSans-75\"/>\r\n      <use x=\"160.986328\" xlink:href=\"#DejaVuSans-6d\"/>\r\n      <use x=\"258.398438\" xlink:href=\"#DejaVuSans-70\"/>\r\n     </g>\r\n    </g>\r\n   </g>\r\n   <g id=\"matplotlib.axis_2\">\r\n    <g id=\"ytick_1\">\r\n     <g id=\"line2d_6\">\r\n      <defs>\r\n       <path d=\"M 0 0 \r\nL -3.5 0 \r\n\" id=\"mb5492129c9\" style=\"stroke:#000000;stroke-width:0.8;\"/>\r\n      </defs>\r\n      <g>\r\n       <use style=\"stroke:#000000;stroke-width:0.8;\" x=\"40.603125\" xlink:href=\"#mb5492129c9\" y=\"192.792727\"/>\r\n      </g>\r\n     </g>\r\n     <g id=\"text_7\">\r\n      <!-- 2 -->\r\n      <g transform=\"translate(27.240625 196.591946)scale(0.1 -0.1)\">\r\n       <use xlink:href=\"#DejaVuSans-32\"/>\r\n      </g>\r\n     </g>\r\n    </g>\r\n    <g id=\"ytick_2\">\r\n     <g id=\"line2d_7\">\r\n      <g>\r\n       <use style=\"stroke:#000000;stroke-width:0.8;\" x=\"40.603125\" xlink:href=\"#mb5492129c9\" y=\"148.865455\"/>\r\n      </g>\r\n     </g>\r\n     <g id=\"text_8\">\r\n      <!-- 4 -->\r\n      <g transform=\"translate(27.240625 152.664673)scale(0.1 -0.1)\">\r\n       <use xlink:href=\"#DejaVuSans-34\"/>\r\n      </g>\r\n     </g>\r\n    </g>\r\n    <g id=\"ytick_3\">\r\n     <g id=\"line2d_8\">\r\n      <g>\r\n       <use style=\"stroke:#000000;stroke-width:0.8;\" x=\"40.603125\" xlink:href=\"#mb5492129c9\" y=\"104.938182\"/>\r\n      </g>\r\n     </g>\r\n     <g id=\"text_9\">\r\n      <!-- 6 -->\r\n      <g transform=\"translate(27.240625 108.737401)scale(0.1 -0.1)\">\r\n       <use xlink:href=\"#DejaVuSans-36\"/>\r\n      </g>\r\n     </g>\r\n    </g>\r\n    <g id=\"ytick_4\">\r\n     <g id=\"line2d_9\">\r\n      <g>\r\n       <use style=\"stroke:#000000;stroke-width:0.8;\" x=\"40.603125\" xlink:href=\"#mb5492129c9\" y=\"61.010909\"/>\r\n      </g>\r\n     </g>\r\n     <g id=\"text_10\">\r\n      <!-- 8 -->\r\n      <g transform=\"translate(27.240625 64.810128)scale(0.1 -0.1)\">\r\n       <use xlink:href=\"#DejaVuSans-38\"/>\r\n      </g>\r\n     </g>\r\n    </g>\r\n    <g id=\"ytick_5\">\r\n     <g id=\"line2d_10\">\r\n      <g>\r\n       <use style=\"stroke:#000000;stroke-width:0.8;\" x=\"40.603125\" xlink:href=\"#mb5492129c9\" y=\"17.083636\"/>\r\n      </g>\r\n     </g>\r\n     <g id=\"text_11\">\r\n      <!-- 10 -->\r\n      <g transform=\"translate(20.878125 20.882855)scale(0.1 -0.1)\">\r\n       <use xlink:href=\"#DejaVuSans-31\"/>\r\n       <use x=\"63.623047\" xlink:href=\"#DejaVuSans-30\"/>\r\n      </g>\r\n     </g>\r\n    </g>\r\n    <g id=\"text_12\">\r\n     <!-- UnifSize -->\r\n     <g transform=\"translate(14.798438 136.161406)rotate(-90)scale(0.1 -0.1)\">\r\n      <defs>\r\n       <path d=\"M 556 4666 \r\nL 1191 4666 \r\nL 1191 1831 \r\nQ 1191 1081 1462 751 \r\nQ 1734 422 2344 422 \r\nQ 2950 422 3222 751 \r\nQ 3494 1081 3494 1831 \r\nL 3494 4666 \r\nL 4128 4666 \r\nL 4128 1753 \r\nQ 4128 841 3676 375 \r\nQ 3225 -91 2344 -91 \r\nQ 1459 -91 1007 375 \r\nQ 556 841 556 1753 \r\nL 556 4666 \r\nz\r\n\" id=\"DejaVuSans-55\" transform=\"scale(0.015625)\"/>\r\n       <path d=\"M 3513 2113 \r\nL 3513 0 \r\nL 2938 0 \r\nL 2938 2094 \r\nQ 2938 2591 2744 2837 \r\nQ 2550 3084 2163 3084 \r\nQ 1697 3084 1428 2787 \r\nQ 1159 2491 1159 1978 \r\nL 1159 0 \r\nL 581 0 \r\nL 581 3500 \r\nL 1159 3500 \r\nL 1159 2956 \r\nQ 1366 3272 1645 3428 \r\nQ 1925 3584 2291 3584 \r\nQ 2894 3584 3203 3211 \r\nQ 3513 2838 3513 2113 \r\nz\r\n\" id=\"DejaVuSans-6e\" transform=\"scale(0.015625)\"/>\r\n       <path d=\"M 603 3500 \r\nL 1178 3500 \r\nL 1178 0 \r\nL 603 0 \r\nL 603 3500 \r\nz\r\nM 603 4863 \r\nL 1178 4863 \r\nL 1178 4134 \r\nL 603 4134 \r\nL 603 4863 \r\nz\r\n\" id=\"DejaVuSans-69\" transform=\"scale(0.015625)\"/>\r\n       <path d=\"M 2375 4863 \r\nL 2375 4384 \r\nL 1825 4384 \r\nQ 1516 4384 1395 4259 \r\nQ 1275 4134 1275 3809 \r\nL 1275 3500 \r\nL 2222 3500 \r\nL 2222 3053 \r\nL 1275 3053 \r\nL 1275 0 \r\nL 697 0 \r\nL 697 3053 \r\nL 147 3053 \r\nL 147 3500 \r\nL 697 3500 \r\nL 697 3744 \r\nQ 697 4328 969 4595 \r\nQ 1241 4863 1831 4863 \r\nL 2375 4863 \r\nz\r\n\" id=\"DejaVuSans-66\" transform=\"scale(0.015625)\"/>\r\n       <path d=\"M 3425 4513 \r\nL 3425 3897 \r\nQ 3066 4069 2747 4153 \r\nQ 2428 4238 2131 4238 \r\nQ 1616 4238 1336 4038 \r\nQ 1056 3838 1056 3469 \r\nQ 1056 3159 1242 3001 \r\nQ 1428 2844 1947 2747 \r\nL 2328 2669 \r\nQ 3034 2534 3370 2195 \r\nQ 3706 1856 3706 1288 \r\nQ 3706 609 3251 259 \r\nQ 2797 -91 1919 -91 \r\nQ 1588 -91 1214 -16 \r\nQ 841 59 441 206 \r\nL 441 856 \r\nQ 825 641 1194 531 \r\nQ 1563 422 1919 422 \r\nQ 2459 422 2753 634 \r\nQ 3047 847 3047 1241 \r\nQ 3047 1584 2836 1778 \r\nQ 2625 1972 2144 2069 \r\nL 1759 2144 \r\nQ 1053 2284 737 2584 \r\nQ 422 2884 422 3419 \r\nQ 422 4038 858 4394 \r\nQ 1294 4750 2059 4750 \r\nQ 2388 4750 2728 4690 \r\nQ 3069 4631 3425 4513 \r\nz\r\n\" id=\"DejaVuSans-53\" transform=\"scale(0.015625)\"/>\r\n       <path d=\"M 353 3500 \r\nL 3084 3500 \r\nL 3084 2975 \r\nL 922 459 \r\nL 3084 459 \r\nL 3084 0 \r\nL 275 0 \r\nL 275 525 \r\nL 2438 3041 \r\nL 353 3041 \r\nL 353 3500 \r\nz\r\n\" id=\"DejaVuSans-7a\" transform=\"scale(0.015625)\"/>\r\n       <path d=\"M 3597 1894 \r\nL 3597 1613 \r\nL 953 1613 \r\nQ 991 1019 1311 708 \r\nQ 1631 397 2203 397 \r\nQ 2534 397 2845 478 \r\nQ 3156 559 3463 722 \r\nL 3463 178 \r\nQ 3153 47 2828 -22 \r\nQ 2503 -91 2169 -91 \r\nQ 1331 -91 842 396 \r\nQ 353 884 353 1716 \r\nQ 353 2575 817 3079 \r\nQ 1281 3584 2069 3584 \r\nQ 2775 3584 3186 3129 \r\nQ 3597 2675 3597 1894 \r\nz\r\nM 3022 2063 \r\nQ 3016 2534 2758 2815 \r\nQ 2500 3097 2075 3097 \r\nQ 1594 3097 1305 2825 \r\nQ 1016 2553 972 2059 \r\nL 3022 2063 \r\nz\r\n\" id=\"DejaVuSans-65\" transform=\"scale(0.015625)\"/>\r\n      </defs>\r\n      <use xlink:href=\"#DejaVuSans-55\"/>\r\n      <use x=\"73.193359\" xlink:href=\"#DejaVuSans-6e\"/>\r\n      <use x=\"136.572266\" xlink:href=\"#DejaVuSans-69\"/>\r\n      <use x=\"164.355469\" xlink:href=\"#DejaVuSans-66\"/>\r\n      <use x=\"199.560547\" xlink:href=\"#DejaVuSans-53\"/>\r\n      <use x=\"263.037109\" xlink:href=\"#DejaVuSans-69\"/>\r\n      <use x=\"290.820312\" xlink:href=\"#DejaVuSans-7a\"/>\r\n      <use x=\"343.310547\" xlink:href=\"#DejaVuSans-65\"/>\r\n     </g>\r\n    </g>\r\n   </g>\r\n   <g id=\"patch_3\">\r\n    <path d=\"M 40.603125 224.64 \r\nL 40.603125 7.2 \r\n\" style=\"fill:none;stroke:#000000;stroke-linecap:square;stroke-linejoin:miter;stroke-width:0.8;\"/>\r\n   </g>\r\n   <g id=\"patch_4\">\r\n    <path d=\"M 375.403125 224.64 \r\nL 375.403125 7.2 \r\n\" style=\"fill:none;stroke:#000000;stroke-linecap:square;stroke-linejoin:miter;stroke-width:0.8;\"/>\r\n   </g>\r\n   <g id=\"patch_5\">\r\n    <path d=\"M 40.603125 224.64 \r\nL 375.403125 224.64 \r\n\" style=\"fill:none;stroke:#000000;stroke-linecap:square;stroke-linejoin:miter;stroke-width:0.8;\"/>\r\n   </g>\r\n   <g id=\"patch_6\">\r\n    <path d=\"M 40.603125 7.2 \r\nL 375.403125 7.2 \r\n\" style=\"fill:none;stroke:#000000;stroke-linecap:square;stroke-linejoin:miter;stroke-width:0.8;\"/>\r\n   </g>\r\n   <g id=\"legend_1\">\r\n    <g id=\"patch_7\">\r\n     <path d=\"M 47.603125 44.55625 \r\nL 130.1 44.55625 \r\nQ 132.1 44.55625 132.1 42.55625 \r\nL 132.1 14.2 \r\nQ 132.1 12.2 130.1 12.2 \r\nL 47.603125 12.2 \r\nQ 45.603125 12.2 45.603125 14.2 \r\nL 45.603125 42.55625 \r\nQ 45.603125 44.55625 47.603125 44.55625 \r\nz\r\n\" style=\"fill:#ffffff;opacity:0.8;stroke:#cccccc;stroke-linejoin:miter;\"/>\r\n    </g>\r\n    <g id=\"PathCollection_3\">\r\n     <g>\r\n      <use style=\"fill:#00008b;stroke:#00008b;\" x=\"59.603125\" xlink:href=\"#m46e6e2d5dd\" y=\"21.173437\"/>\r\n     </g>\r\n    </g>\r\n    <g id=\"text_13\">\r\n     <!-- malignant -->\r\n     <g transform=\"translate(77.603125 23.798437)scale(0.1 -0.1)\">\r\n      <defs>\r\n       <path d=\"M 2194 1759 \r\nQ 1497 1759 1228 1600 \r\nQ 959 1441 959 1056 \r\nQ 959 750 1161 570 \r\nQ 1363 391 1709 391 \r\nQ 2188 391 2477 730 \r\nQ 2766 1069 2766 1631 \r\nL 2766 1759 \r\nL 2194 1759 \r\nz\r\nM 3341 1997 \r\nL 3341 0 \r\nL 2766 0 \r\nL 2766 531 \r\nQ 2569 213 2275 61 \r\nQ 1981 -91 1556 -91 \r\nQ 1019 -91 701 211 \r\nQ 384 513 384 1019 \r\nQ 384 1609 779 1909 \r\nQ 1175 2209 1959 2209 \r\nL 2766 2209 \r\nL 2766 2266 \r\nQ 2766 2663 2505 2880 \r\nQ 2244 3097 1772 3097 \r\nQ 1472 3097 1187 3025 \r\nQ 903 2953 641 2809 \r\nL 641 3341 \r\nQ 956 3463 1253 3523 \r\nQ 1550 3584 1831 3584 \r\nQ 2591 3584 2966 3190 \r\nQ 3341 2797 3341 1997 \r\nz\r\n\" id=\"DejaVuSans-61\" transform=\"scale(0.015625)\"/>\r\n       <path d=\"M 2906 1791 \r\nQ 2906 2416 2648 2759 \r\nQ 2391 3103 1925 3103 \r\nQ 1463 3103 1205 2759 \r\nQ 947 2416 947 1791 \r\nQ 947 1169 1205 825 \r\nQ 1463 481 1925 481 \r\nQ 2391 481 2648 825 \r\nQ 2906 1169 2906 1791 \r\nz\r\nM 3481 434 \r\nQ 3481 -459 3084 -895 \r\nQ 2688 -1331 1869 -1331 \r\nQ 1566 -1331 1297 -1286 \r\nQ 1028 -1241 775 -1147 \r\nL 775 -588 \r\nQ 1028 -725 1275 -790 \r\nQ 1522 -856 1778 -856 \r\nQ 2344 -856 2625 -561 \r\nQ 2906 -266 2906 331 \r\nL 2906 616 \r\nQ 2728 306 2450 153 \r\nQ 2172 0 1784 0 \r\nQ 1141 0 747 490 \r\nQ 353 981 353 1791 \r\nQ 353 2603 747 3093 \r\nQ 1141 3584 1784 3584 \r\nQ 2172 3584 2450 3431 \r\nQ 2728 3278 2906 2969 \r\nL 2906 3500 \r\nL 3481 3500 \r\nL 3481 434 \r\nz\r\n\" id=\"DejaVuSans-67\" transform=\"scale(0.015625)\"/>\r\n       <path d=\"M 1172 4494 \r\nL 1172 3500 \r\nL 2356 3500 \r\nL 2356 3053 \r\nL 1172 3053 \r\nL 1172 1153 \r\nQ 1172 725 1289 603 \r\nQ 1406 481 1766 481 \r\nL 2356 481 \r\nL 2356 0 \r\nL 1766 0 \r\nQ 1100 0 847 248 \r\nQ 594 497 594 1153 \r\nL 594 3053 \r\nL 172 3053 \r\nL 172 3500 \r\nL 594 3500 \r\nL 594 4494 \r\nL 1172 4494 \r\nz\r\n\" id=\"DejaVuSans-74\" transform=\"scale(0.015625)\"/>\r\n      </defs>\r\n      <use xlink:href=\"#DejaVuSans-6d\"/>\r\n      <use x=\"97.412109\" xlink:href=\"#DejaVuSans-61\"/>\r\n      <use x=\"158.691406\" xlink:href=\"#DejaVuSans-6c\"/>\r\n      <use x=\"186.474609\" xlink:href=\"#DejaVuSans-69\"/>\r\n      <use x=\"214.257812\" xlink:href=\"#DejaVuSans-67\"/>\r\n      <use x=\"277.734375\" xlink:href=\"#DejaVuSans-6e\"/>\r\n      <use x=\"341.113281\" xlink:href=\"#DejaVuSans-61\"/>\r\n      <use x=\"402.392578\" xlink:href=\"#DejaVuSans-6e\"/>\r\n      <use x=\"465.771484\" xlink:href=\"#DejaVuSans-74\"/>\r\n     </g>\r\n    </g>\r\n    <g id=\"PathCollection_4\">\r\n     <g>\r\n      <use style=\"fill:#ffff00;stroke:#ffff00;\" x=\"59.603125\" xlink:href=\"#m088c6673ab\" y=\"35.851562\"/>\r\n     </g>\r\n    </g>\r\n    <g id=\"text_14\">\r\n     <!-- benign -->\r\n     <g transform=\"translate(77.603125 38.476562)scale(0.1 -0.1)\">\r\n      <defs>\r\n       <path d=\"M 3116 1747 \r\nQ 3116 2381 2855 2742 \r\nQ 2594 3103 2138 3103 \r\nQ 1681 3103 1420 2742 \r\nQ 1159 2381 1159 1747 \r\nQ 1159 1113 1420 752 \r\nQ 1681 391 2138 391 \r\nQ 2594 391 2855 752 \r\nQ 3116 1113 3116 1747 \r\nz\r\nM 1159 2969 \r\nQ 1341 3281 1617 3432 \r\nQ 1894 3584 2278 3584 \r\nQ 2916 3584 3314 3078 \r\nQ 3713 2572 3713 1747 \r\nQ 3713 922 3314 415 \r\nQ 2916 -91 2278 -91 \r\nQ 1894 -91 1617 61 \r\nQ 1341 213 1159 525 \r\nL 1159 0 \r\nL 581 0 \r\nL 581 4863 \r\nL 1159 4863 \r\nL 1159 2969 \r\nz\r\n\" id=\"DejaVuSans-62\" transform=\"scale(0.015625)\"/>\r\n      </defs>\r\n      <use xlink:href=\"#DejaVuSans-62\"/>\r\n      <use x=\"63.476562\" xlink:href=\"#DejaVuSans-65\"/>\r\n      <use x=\"125\" xlink:href=\"#DejaVuSans-6e\"/>\r\n      <use x=\"188.378906\" xlink:href=\"#DejaVuSans-69\"/>\r\n      <use x=\"216.162109\" xlink:href=\"#DejaVuSans-67\"/>\r\n      <use x=\"279.638672\" xlink:href=\"#DejaVuSans-6e\"/>\r\n     </g>\r\n    </g>\r\n   </g>\r\n  </g>\r\n </g>\r\n <defs>\r\n  <clipPath id=\"p7937cfdaa4\">\r\n   <rect height=\"217.44\" width=\"334.8\" x=\"40.603125\" y=\"7.2\"/>\r\n  </clipPath>\r\n </defs>\r\n</svg>\r\n",
      "image/png": "[encoded data removed]"
     },
     "metadata": {
      "needs_background": "light"
     }
    }
   ],
   "metadata": {}
  },
  {
   "cell_type": "code",
   "execution_count": 35,
   "source": [
    "# for demo\r\n",
    "d_dummy = cell_df[cell_df['Class'] == 4][0:10]\r\n",
    "print(type(d_dummy))\r\n",
    "d_dummy"
   ],
   "outputs": [
    {
     "output_type": "stream",
     "name": "stdout",
     "text": [
      "<class 'pandas.core.frame.DataFrame'>\n"
     ]
    },
    {
     "output_type": "execute_result",
     "data": {
      "text/plain": [
       "         ID  Clump  UnifSize  UnifShape  MargAdh  SingEpiSize BareNuc  \\\n",
       "5   1017122      8        10         10        8            7      10   \n",
       "12  1041801      5         3          3        3            2       3   \n",
       "14  1044572      8         7          5       10            7       9   \n",
       "15  1047630      7         4          6        4            6       1   \n",
       "18  1050670     10         7          7        6            4      10   \n",
       "20  1054590      7         3          2       10            5      10   \n",
       "21  1054593     10         5          5        3            6       7   \n",
       "23  1057013      8         4          5        1            2       ?   \n",
       "25  1065726      5         2          3        4            2       7   \n",
       "32  1072179     10         7          7        3            8       5   \n",
       "\n",
       "    BlandChrom  NormNucl  Mit  Class  \n",
       "5            9         7    1      4  \n",
       "12           4         4    1      4  \n",
       "14           5         5    4      4  \n",
       "15           4         3    1      4  \n",
       "18           4         1    2      4  \n",
       "20           5         4    4      4  \n",
       "21           7        10    1      4  \n",
       "23           7         3    1      4  \n",
       "25           3         6    1      4  \n",
       "32           7         4    3      4  "
      ],
      "text/html": [
       "<div>\n",
       "<style scoped>\n",
       "    .dataframe tbody tr th:only-of-type {\n",
       "        vertical-align: middle;\n",
       "    }\n",
       "\n",
       "    .dataframe tbody tr th {\n",
       "        vertical-align: top;\n",
       "    }\n",
       "\n",
       "    .dataframe thead th {\n",
       "        text-align: right;\n",
       "    }\n",
       "</style>\n",
       "<table border=\"1\" class=\"dataframe\">\n",
       "  <thead>\n",
       "    <tr style=\"text-align: right;\">\n",
       "      <th></th>\n",
       "      <th>ID</th>\n",
       "      <th>Clump</th>\n",
       "      <th>UnifSize</th>\n",
       "      <th>UnifShape</th>\n",
       "      <th>MargAdh</th>\n",
       "      <th>SingEpiSize</th>\n",
       "      <th>BareNuc</th>\n",
       "      <th>BlandChrom</th>\n",
       "      <th>NormNucl</th>\n",
       "      <th>Mit</th>\n",
       "      <th>Class</th>\n",
       "    </tr>\n",
       "  </thead>\n",
       "  <tbody>\n",
       "    <tr>\n",
       "      <th>5</th>\n",
       "      <td>1017122</td>\n",
       "      <td>8</td>\n",
       "      <td>10</td>\n",
       "      <td>10</td>\n",
       "      <td>8</td>\n",
       "      <td>7</td>\n",
       "      <td>10</td>\n",
       "      <td>9</td>\n",
       "      <td>7</td>\n",
       "      <td>1</td>\n",
       "      <td>4</td>\n",
       "    </tr>\n",
       "    <tr>\n",
       "      <th>12</th>\n",
       "      <td>1041801</td>\n",
       "      <td>5</td>\n",
       "      <td>3</td>\n",
       "      <td>3</td>\n",
       "      <td>3</td>\n",
       "      <td>2</td>\n",
       "      <td>3</td>\n",
       "      <td>4</td>\n",
       "      <td>4</td>\n",
       "      <td>1</td>\n",
       "      <td>4</td>\n",
       "    </tr>\n",
       "    <tr>\n",
       "      <th>14</th>\n",
       "      <td>1044572</td>\n",
       "      <td>8</td>\n",
       "      <td>7</td>\n",
       "      <td>5</td>\n",
       "      <td>10</td>\n",
       "      <td>7</td>\n",
       "      <td>9</td>\n",
       "      <td>5</td>\n",
       "      <td>5</td>\n",
       "      <td>4</td>\n",
       "      <td>4</td>\n",
       "    </tr>\n",
       "    <tr>\n",
       "      <th>15</th>\n",
       "      <td>1047630</td>\n",
       "      <td>7</td>\n",
       "      <td>4</td>\n",
       "      <td>6</td>\n",
       "      <td>4</td>\n",
       "      <td>6</td>\n",
       "      <td>1</td>\n",
       "      <td>4</td>\n",
       "      <td>3</td>\n",
       "      <td>1</td>\n",
       "      <td>4</td>\n",
       "    </tr>\n",
       "    <tr>\n",
       "      <th>18</th>\n",
       "      <td>1050670</td>\n",
       "      <td>10</td>\n",
       "      <td>7</td>\n",
       "      <td>7</td>\n",
       "      <td>6</td>\n",
       "      <td>4</td>\n",
       "      <td>10</td>\n",
       "      <td>4</td>\n",
       "      <td>1</td>\n",
       "      <td>2</td>\n",
       "      <td>4</td>\n",
       "    </tr>\n",
       "    <tr>\n",
       "      <th>20</th>\n",
       "      <td>1054590</td>\n",
       "      <td>7</td>\n",
       "      <td>3</td>\n",
       "      <td>2</td>\n",
       "      <td>10</td>\n",
       "      <td>5</td>\n",
       "      <td>10</td>\n",
       "      <td>5</td>\n",
       "      <td>4</td>\n",
       "      <td>4</td>\n",
       "      <td>4</td>\n",
       "    </tr>\n",
       "    <tr>\n",
       "      <th>21</th>\n",
       "      <td>1054593</td>\n",
       "      <td>10</td>\n",
       "      <td>5</td>\n",
       "      <td>5</td>\n",
       "      <td>3</td>\n",
       "      <td>6</td>\n",
       "      <td>7</td>\n",
       "      <td>7</td>\n",
       "      <td>10</td>\n",
       "      <td>1</td>\n",
       "      <td>4</td>\n",
       "    </tr>\n",
       "    <tr>\n",
       "      <th>23</th>\n",
       "      <td>1057013</td>\n",
       "      <td>8</td>\n",
       "      <td>4</td>\n",
       "      <td>5</td>\n",
       "      <td>1</td>\n",
       "      <td>2</td>\n",
       "      <td>?</td>\n",
       "      <td>7</td>\n",
       "      <td>3</td>\n",
       "      <td>1</td>\n",
       "      <td>4</td>\n",
       "    </tr>\n",
       "    <tr>\n",
       "      <th>25</th>\n",
       "      <td>1065726</td>\n",
       "      <td>5</td>\n",
       "      <td>2</td>\n",
       "      <td>3</td>\n",
       "      <td>4</td>\n",
       "      <td>2</td>\n",
       "      <td>7</td>\n",
       "      <td>3</td>\n",
       "      <td>6</td>\n",
       "      <td>1</td>\n",
       "      <td>4</td>\n",
       "    </tr>\n",
       "    <tr>\n",
       "      <th>32</th>\n",
       "      <td>1072179</td>\n",
       "      <td>10</td>\n",
       "      <td>7</td>\n",
       "      <td>7</td>\n",
       "      <td>3</td>\n",
       "      <td>8</td>\n",
       "      <td>5</td>\n",
       "      <td>7</td>\n",
       "      <td>4</td>\n",
       "      <td>3</td>\n",
       "      <td>4</td>\n",
       "    </tr>\n",
       "  </tbody>\n",
       "</table>\n",
       "</div>"
      ]
     },
     "metadata": {},
     "execution_count": 35
    }
   ],
   "metadata": {}
  },
  {
   "cell_type": "markdown",
   "source": [
    "## Data pre-processing and selection"
   ],
   "metadata": {}
  },
  {
   "cell_type": "markdown",
   "source": [
    "Lets first look at columns data types:"
   ],
   "metadata": {}
  },
  {
   "cell_type": "code",
   "execution_count": 25,
   "source": [
    "cell_df.dtypes"
   ],
   "outputs": [
    {
     "output_type": "execute_result",
     "data": {
      "text/plain": [
       "ID              int64\n",
       "Clump           int64\n",
       "UnifSize        int64\n",
       "UnifShape       int64\n",
       "MargAdh         int64\n",
       "SingEpiSize     int64\n",
       "BareNuc        object\n",
       "BlandChrom      int64\n",
       "NormNucl        int64\n",
       "Mit             int64\n",
       "Class           int64\n",
       "dtype: object"
      ]
     },
     "metadata": {},
     "execution_count": 25
    }
   ],
   "metadata": {}
  },
  {
   "cell_type": "markdown",
   "source": [
    "It looks like the __BareNuc__ column includes some values that are not numerical. We can drop those rows:"
   ],
   "metadata": {}
  },
  {
   "cell_type": "code",
   "execution_count": 36,
   "source": [
    "# For demo / testing only\r\n",
    "pd.to_numeric(cell_df['BareNuc'], errors='coerce').notnull()"
   ],
   "outputs": [
    {
     "output_type": "execute_result",
     "data": {
      "text/plain": [
       "0      True\n",
       "1      True\n",
       "2      True\n",
       "3      True\n",
       "4      True\n",
       "       ... \n",
       "694    True\n",
       "695    True\n",
       "696    True\n",
       "697    True\n",
       "698    True\n",
       "Name: BareNuc, Length: 699, dtype: bool"
      ]
     },
     "metadata": {},
     "execution_count": 36
    }
   ],
   "metadata": {}
  },
  {
   "cell_type": "code",
   "execution_count": 37,
   "source": [
    "cell_df = cell_df[pd.to_numeric(cell_df['BareNuc'], errors='coerce').notnull()] # the expression inside the square bracket generates a mask array.\r\n",
    "cell_df['BareNuc'] = cell_df['BareNuc'].astype('int')\r\n",
    "cell_df.dtypes"
   ],
   "outputs": [
    {
     "output_type": "execute_result",
     "data": {
      "text/plain": [
       "ID             int64\n",
       "Clump          int64\n",
       "UnifSize       int64\n",
       "UnifShape      int64\n",
       "MargAdh        int64\n",
       "SingEpiSize    int64\n",
       "BareNuc        int32\n",
       "BlandChrom     int64\n",
       "NormNucl       int64\n",
       "Mit            int64\n",
       "Class          int64\n",
       "dtype: object"
      ]
     },
     "metadata": {},
     "execution_count": 37
    }
   ],
   "metadata": {}
  },
  {
   "cell_type": "code",
   "execution_count": 38,
   "source": [
    "feature_df = cell_df[['Clump', 'UnifSize', 'UnifShape', 'MargAdh', 'SingEpiSize', 'BareNuc', 'BlandChrom', 'NormNucl', 'Mit']]\r\n",
    "X = np.asarray(feature_df)\r\n",
    "X[0:5]"
   ],
   "outputs": [
    {
     "output_type": "execute_result",
     "data": {
      "text/plain": [
       "array([[ 5,  1,  1,  1,  2,  1,  3,  1,  1],\n",
       "       [ 5,  4,  4,  5,  7, 10,  3,  2,  1],\n",
       "       [ 3,  1,  1,  1,  2,  2,  3,  1,  1],\n",
       "       [ 6,  8,  8,  1,  3,  4,  3,  7,  1],\n",
       "       [ 4,  1,  1,  3,  2,  1,  3,  1,  1]], dtype=int64)"
      ]
     },
     "metadata": {},
     "execution_count": 38
    }
   ],
   "metadata": {}
  },
  {
   "cell_type": "markdown",
   "source": [
    "We want the model to predict the value of Class (that is, benign (=2) or malignant (=4)). As this field can have one of only two possible values, we need to change its measurement level to reflect this."
   ],
   "metadata": {}
  },
  {
   "cell_type": "code",
   "execution_count": 39,
   "source": [
    "# For testing only \r\n",
    "demo = np.asanyarray(feature_df)\r\n",
    "demo[0:5]"
   ],
   "outputs": [
    {
     "output_type": "execute_result",
     "data": {
      "text/plain": [
       "array([[ 5,  1,  1,  1,  2,  1,  3,  1,  1],\n",
       "       [ 5,  4,  4,  5,  7, 10,  3,  2,  1],\n",
       "       [ 3,  1,  1,  1,  2,  2,  3,  1,  1],\n",
       "       [ 6,  8,  8,  1,  3,  4,  3,  7,  1],\n",
       "       [ 4,  1,  1,  3,  2,  1,  3,  1,  1]], dtype=int64)"
      ]
     },
     "metadata": {},
     "execution_count": 39
    }
   ],
   "metadata": {}
  },
  {
   "cell_type": "code",
   "execution_count": 40,
   "source": [
    "cell_df['Class'] = cell_df['Class'].astype('int')\r\n",
    "y = np.asarray(cell_df['Class'])\r\n",
    "print(y [0:5])\r\n",
    "print(cell_df.dtypes)"
   ],
   "outputs": [
    {
     "output_type": "stream",
     "name": "stdout",
     "text": [
      "[2 2 2 2 2]\n",
      "ID             int64\n",
      "Clump          int64\n",
      "UnifSize       int64\n",
      "UnifShape      int64\n",
      "MargAdh        int64\n",
      "SingEpiSize    int64\n",
      "BareNuc        int32\n",
      "BlandChrom     int64\n",
      "NormNucl       int64\n",
      "Mit            int64\n",
      "Class          int32\n",
      "dtype: object\n"
     ]
    }
   ],
   "metadata": {}
  },
  {
   "cell_type": "markdown",
   "source": [
    "## Train/Test dataset"
   ],
   "metadata": {}
  },
  {
   "cell_type": "markdown",
   "source": [
    "Okay, we split our dataset into train and test set:"
   ],
   "metadata": {}
  },
  {
   "cell_type": "code",
   "execution_count": 41,
   "source": [
    "X_train, X_test, y_train, y_test = train_test_split( X, y, test_size=0.2, random_state=4)\r\n",
    "print ('Train set:', X_train.shape,  y_train.shape)\r\n",
    "print ('Test set:', X_test.shape,  y_test.shape)"
   ],
   "outputs": [
    {
     "output_type": "stream",
     "name": "stdout",
     "text": [
      "Train set: (546, 9) (546,)\n",
      "Test set: (137, 9) (137,)\n"
     ]
    }
   ],
   "metadata": {}
  },
  {
   "cell_type": "markdown",
   "source": [
    "<h2 id=\"modeling\">Modeling (SVM with Scikit-learn)</h2>"
   ],
   "metadata": {}
  },
  {
   "cell_type": "markdown",
   "source": [
    "The SVM algorithm offers a choice of kernel functions for performing its processing. Basically, mapping data into a higher dimensional space is called kernelling. The mathematical function used for the transformation is known as the kernel function, and can be of different types, such as:\n",
    "\n",
    "    1.Linear\n",
    "    2.Polynomial\n",
    "    3.Radial basis function (RBF)\n",
    "    4.Sigmoid\n",
    "Each of these functions has its characteristics, its pros and cons, and its equation, but as there's no easy way of knowing which function performs best with any given dataset, we usually choose different functions in turn and compare the results. Let's just use the default, RBF (Radial Basis Function) for this lab."
   ],
   "metadata": {}
  },
  {
   "cell_type": "code",
   "execution_count": 42,
   "source": [
    "from sklearn import svm\r\n",
    "clf = svm.SVC(kernel='rbf')\r\n",
    "clf.fit(X_train, y_train) "
   ],
   "outputs": [
    {
     "output_type": "execute_result",
     "data": {
      "text/plain": [
       "SVC()"
      ]
     },
     "metadata": {},
     "execution_count": 42
    }
   ],
   "metadata": {}
  },
  {
   "cell_type": "markdown",
   "source": [
    "After being fitted, the model can then be used to predict new values:"
   ],
   "metadata": {}
  },
  {
   "cell_type": "code",
   "execution_count": 43,
   "source": [
    "yhat = clf.predict(X_test)\r\n",
    "yhat [0:5]"
   ],
   "outputs": [
    {
     "output_type": "execute_result",
     "data": {
      "text/plain": [
       "array([2, 4, 2, 4, 2])"
      ]
     },
     "metadata": {},
     "execution_count": 43
    }
   ],
   "metadata": {}
  },
  {
   "cell_type": "markdown",
   "source": [
    "<h2 id=\"evaluation\">Evaluation</h2>"
   ],
   "metadata": {}
  },
  {
   "cell_type": "code",
   "execution_count": 44,
   "source": [
    "from sklearn.metrics import classification_report, confusion_matrix\r\n",
    "import itertools"
   ],
   "outputs": [],
   "metadata": {}
  },
  {
   "cell_type": "code",
   "execution_count": 45,
   "source": [
    "def plot_confusion_matrix(cm, classes,\r\n",
    "                          normalize=False,\r\n",
    "                          title='Confusion matrix',\r\n",
    "                          cmap=plt.cm.Blues):\r\n",
    "    \"\"\"\r\n",
    "    This function prints and plots the confusion matrix.\r\n",
    "    Normalization can be applied by setting `normalize=True`.\r\n",
    "    \"\"\"\r\n",
    "    if normalize:\r\n",
    "        cm = cm.astype('float') / cm.sum(axis=1)[:, np.newaxis]\r\n",
    "        print(\"Normalized confusion matrix\")\r\n",
    "    else:\r\n",
    "        print('Confusion matrix, without normalization')\r\n",
    "\r\n",
    "    print(cm)\r\n",
    "\r\n",
    "    plt.imshow(cm, interpolation='nearest', cmap=cmap)\r\n",
    "    plt.title(title)\r\n",
    "    plt.colorbar()\r\n",
    "    tick_marks = np.arange(len(classes))\r\n",
    "    plt.xticks(tick_marks, classes, rotation=45)\r\n",
    "    plt.yticks(tick_marks, classes)\r\n",
    "\r\n",
    "    fmt = '.2f' if normalize else 'd'\r\n",
    "    thresh = cm.max() / 2.\r\n",
    "    for i, j in itertools.product(range(cm.shape[0]), range(cm.shape[1])):\r\n",
    "        plt.text(j, i, format(cm[i, j], fmt),\r\n",
    "                 horizontalalignment=\"center\",\r\n",
    "                 color=\"white\" if cm[i, j] > thresh else \"black\")\r\n",
    "\r\n",
    "    plt.tight_layout()\r\n",
    "    plt.ylabel('True label')\r\n",
    "    plt.xlabel('Predicted label')"
   ],
   "outputs": [],
   "metadata": {}
  },
  {
   "cell_type": "code",
   "execution_count": 46,
   "source": [
    "# Compute confusion matrix\r\n",
    "cnf_matrix = confusion_matrix(y_test, yhat, labels=[2,4])\r\n",
    "np.set_printoptions(precision=2)\r\n",
    "\r\n",
    "print (classification_report(y_test, yhat))\r\n",
    "\r\n",
    "# Plot non-normalized confusion matrix\r\n",
    "plt.figure()\r\n",
    "plot_confusion_matrix(cnf_matrix, classes=['Benign(2)','Malignant(4)'],normalize= False,  title='Confusion matrix')"
   ],
   "outputs": [
    {
     "output_type": "stream",
     "name": "stdout",
     "text": [
      "              precision    recall  f1-score   support\n",
      "\n",
      "           2       1.00      0.94      0.97        90\n",
      "           4       0.90      1.00      0.95        47\n",
      "\n",
      "    accuracy                           0.96       137\n",
      "   macro avg       0.95      0.97      0.96       137\n",
      "weighted avg       0.97      0.96      0.96       137\n",
      "\n",
      "Confusion matrix, without normalization\n",
      "[[85  5]\n",
      " [ 0 47]]\n"
     ]
    },
    {
     "output_type": "display_data",
     "data": {
      "text/plain": [
       "<Figure size 432x288 with 2 Axes>"
      ],
      "image/png": "[encoded data removed]"
     },
     "metadata": {
      "needs_background": "light"
     }
    }
   ],
   "metadata": {}
  },
  {
   "cell_type": "markdown",
   "source": [
    "You can also easily use the __f1_score__ from sklearn library:"
   ],
   "metadata": {}
  },
  {
   "cell_type": "code",
   "execution_count": 47,
   "source": [
    "from sklearn.metrics import f1_score\r\n",
    "f1_score(y_test, yhat, average='weighted') "
   ],
   "outputs": [
    {
     "output_type": "execute_result",
     "data": {
      "text/plain": [
       "0.9639038982104676"
      ]
     },
     "metadata": {},
     "execution_count": 47
    }
   ],
   "metadata": {}
  },
  {
   "cell_type": "markdown",
   "source": [
    "Lets try jaccard index for accuracy:"
   ],
   "metadata": {}
  },
  {
   "cell_type": "code",
   "execution_count": 48,
   "source": [
    "from sklearn.metrics import jaccard_similarity_score\r\n",
    "jaccard_similarity_score(y_test, yhat)"
   ],
   "outputs": [
    {
     "output_type": "stream",
     "name": "stderr",
     "text": [
      "C:\\Users\\XXXXX\\anaconda3\\lib\\site-packages\\sklearn\\metrics\\_classification.py:664: FutureWarning: jaccard_similarity_score has been deprecated and replaced with jaccard_score. It will be removed in version 0.23. This implementation has surprising behavior for binary and multiclass classification tasks.\n",
      "  FutureWarning)\n"
     ]
    },
    {
     "output_type": "execute_result",
     "data": {
      "text/plain": [
       "0.9635036496350365"
      ]
     },
     "metadata": {},
     "execution_count": 48
    }
   ],
   "metadata": {}
  },
  {
   "cell_type": "markdown",
   "source": [
    "<h2 id=\"practice\">Practice</h2>\n",
    "Can you rebuild the model, but this time with a __linear__ kernel? You can use __kernel='linear'__ option, when you define the svm. How the accuracy changes with the new kernel function?"
   ],
   "metadata": {}
  },
  {
   "cell_type": "code",
   "execution_count": 50,
   "source": [
    "# write your code here\r\n",
    "from sklearn import svm\r\n",
    "# our linear SVM model\r\n",
    "model = svm.SVC(kernel='linear')\r\n",
    "model.fit(X_train, y_train) \r\n",
    "# Lets test our model\r\n",
    "model_prediction = model.predict(X_test)\r\n",
    "# Accuracy evaluation\r\n",
    "print(\"f1_score: \", f1_score(y_test, model_prediction , average='weighted'))\r\n",
    "print(\"jaccard_similarity_score: \", jaccard_similarity_score(y_test, model_prediction))"
   ],
   "outputs": [
    {
     "output_type": "stream",
     "name": "stdout",
     "text": [
      "f1_score:  0.9639038982104676\n",
      "jaccard_similarity_score:  0.9635036496350365\n"
     ]
    },
    {
     "output_type": "stream",
     "name": "stderr",
     "text": [
      "C:\\Users\\XXXXX\\anaconda3\\lib\\site-packages\\sklearn\\metrics\\_classification.py:664: FutureWarning: jaccard_similarity_score has been deprecated and replaced with jaccard_score. It will be removed in version 0.23. This implementation has surprising behavior for binary and multiclass classification tasks.\n",
      "  FutureWarning)\n"
     ]
    }
   ],
   "metadata": {}
  },
  {
   "cell_type": "markdown",
   "source": [
    "#### We see from above that our accuracy scores remain exactly the same, which indicates that for this data set switching the kernel from <b>radial basis</b> function to <b>linear</b> doesnot make any differnce in terms of accuracy "
   ],
   "metadata": {}
  }
 ],
 "metadata": {
  "kernelspec": {
   "name": "python3",
   "display_name": "Python 3.9.6 64-bit"
  },
  "language_info": {
   "codemirror_mode": {
    "name": "ipython",
    "version": 3
   },
   "file_extension": ".py",
   "mimetype": "text/x-python",
   "name": "python",
   "nbconvert_exporter": "python",
   "pygments_lexer": "ipython3",
   "version": "3.9.6"
  },
  "interpreter": {
   "hash": "14a336a61cfaefff504b47e2b8e6e50961f0feafa7b211f8ff23081790c52144"
  }
 },
 "nbformat": 4,
 "nbformat_minor": 4
}